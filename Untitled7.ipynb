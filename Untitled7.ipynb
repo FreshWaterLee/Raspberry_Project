version https://git-lfs.github.com/spec/v1
oid sha256:8333c0984a23634e63495bfeecb65b643efb29e9dfac7b3466ce3239ff2b2f43
size 5221
