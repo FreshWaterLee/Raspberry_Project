{
  "nbformat": 4,
  "nbformat_minor": 0,
  "metadata": {
    "colab": {
      "name": "Untitled7.ipynb",
      "private_outputs": true,
      "provenance": [],
      "collapsed_sections": [],
      "mount_file_id": "1llSWQcLi2p5wXzQF_W9L5h1osFQGwsfZ",
      "authorship_tag": "ABX9TyN5JuRwBAOwP+Nb+KQ7dJ6S",
      "include_colab_link": true
    },
    "kernelspec": {
      "name": "python3",
      "display_name": "Python 3"
    },
    "language_info": {
      "name": "python"
    },
    "accelerator": "GPU"
  },
  "cells": [
    {
      "cell_type": "markdown",
      "metadata": {
        "id": "view-in-github",
        "colab_type": "text"
      },
      "source": [
        "<a href=\"https://colab.research.google.com/github/FreshWaterLee/Raspberry_Project/blob/master/Untitled7.ipynb\" target=\"_parent\"><img src=\"https://colab.research.google.com/assets/colab-badge.svg\" alt=\"Open In Colab\"/></a>"
      ]
    },
    {
      "cell_type": "code",
      "metadata": {
        "id": "3hD5A8Ms2b1K"
      },
      "source": [
        "import numpy as np\n",
        "import os\n",
        "from tensorflow.keras.utils import to_categorical\n",
        "from sklearn.model_selection import train_test_split\n",
        "from tensorflow.keras.models import Sequential\n",
        "from tensorflow.keras.layers import LSTM,Dense\n",
        "from tensorflow.keras.callbacks import ModelCheckpoint,ReduceLROnPlateau\n",
        "\n",
        "os.environ['CUDA_VISIBLE_DEVICES']='1'\n",
        "os.environ['TF_FORCE_GPU_ALLOW_GROWTH']='true'\n",
        "\n",
        "actions = [\n",
        "    'come',\n",
        "    'away',\n",
        "    'spin'\n",
        "    ]\n",
        "    \n",
        "data = np.concatenate([\n",
        "    np.load('/content/drive/MyDrive/Kairess_Example/Finger_Gesture/dataset/seq_come_1628660070.npy'),\n",
        "    np.load('/content/drive/MyDrive/Kairess_Example/Finger_Gesture/dataset/seq_away_1628660070.npy'),\n",
        "    np.load('/content/drive/MyDrive/Kairess_Example/Finger_Gesture/dataset/seq_spin_1628660070.npy')\n",
        "    ],axis=0)\n",
        "\n",
        "x_data = data[:,:,:-1]\n",
        "labels = data[:,0,-1]\n",
        "y_data = to_categorical(labels,num_classes=len(actions))\n",
        "\n",
        "x_data = x_data.astype(np.float32)\n",
        "y_data = y_data.astype(np.float32)\n",
        "\n",
        "x_train,x_val,y_train,y_val = train_test_split(x_data,y_data,test_size=0.1,random_state=2021)\n",
        "\n",
        "#print(x_train.shape,y_train.shape)\n",
        "#print(x_val.shape,y_val.shape)\n",
        "\n",
        "model = Sequential([\n",
        "    LSTM(64,activation='relu',input_shape=x_train.shape[1:3]),\n",
        "    Dense(32,activation='relu'),\n",
        "    Dense(len(actions),activation='softmax')\n",
        "])\n",
        "\n",
        "model.compile(optimizer='adam',loss='categorical_crossentropy',metrics=['acc'])\n",
        "model.summary()"
      ],
      "execution_count": null,
      "outputs": []
    },
    {
      "cell_type": "code",
      "metadata": {
        "id": "8CsaTthR57lq"
      },
      "source": [
        "history = model.fit(\n",
        "    x_train,\n",
        "    y_train,\n",
        "    validation_data=(x_val,y_val),\n",
        "    epochs=500,\n",
        "    callbacks=[\n",
        "            ModelCheckpoint('/content/drive/MyDrive/Kairess_Example/Finger_Gesture/models/model.h5',monitor='val_acc',verbose=1,save_best_only=True,mode='auto'),\n",
        "            ReduceLROnPlateau(monitor='val_acc',factor=0.5,patience=50,verbose=1,mode='auto')\n",
        "    ]\n",
        ")"
      ],
      "execution_count": null,
      "outputs": []
    },
    {
      "cell_type": "code",
      "metadata": {
        "id": "znWnARfE7ppF"
      },
      "source": [
        "import matplotlib.pyplot as plt\n",
        "\n",
        "fig,loss_ax = plt.subplots(figsize=(16,10))\n",
        "acc_ax = loss_ax.twinx()\n",
        "\n",
        "loss_ax.plot(history.history['loss'],'y',label='train loss')\n",
        "loss_ax.plot(history.history['val_loss'],'r',label='val loss')\n",
        "loss_ax.set_xlabel('epoch')\n",
        "loss_ax.set_ylabel('loss')\n",
        "loss_ax.legend(loc='upper left')\n",
        "\n",
        "acc_ax.plot(history.history['acc'],'b',label='train acc')\n",
        "acc_ax.plot(history.history['val_acc'],'g',label='val acc')\n",
        "acc_ax.set_ylabel('accuracy')\n",
        "acc_ax.legend(loc='upper left')\n",
        "\n",
        "plt.show()"
      ],
      "execution_count": null,
      "outputs": []
    },
    {
      "cell_type": "code",
      "metadata": {
        "id": "kn4YLHgD8mZ4"
      },
      "source": [
        "from sklearn.metrics import multilabel_confusion_matrix\n",
        "from tensorflow.keras.models import load_model\n",
        "\n",
        "model = load_model('/content/drive/MyDrive/Kairess_Example/Finger_Gesture/models/model.h5')\n",
        "\n",
        "y_pred = model.predict(x_val)\n",
        "\n",
        "multilabel_confusion_matrix(np.argmax(y_val,axis=1),np.argmax(y_pred,axis=1))"
      ],
      "execution_count": null,
      "outputs": []
    }
  ]
}